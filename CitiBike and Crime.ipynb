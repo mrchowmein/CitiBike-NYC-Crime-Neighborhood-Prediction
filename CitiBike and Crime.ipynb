{
 "cells": [
  {
   "cell_type": "code",
   "execution_count": 1,
   "metadata": {},
   "outputs": [],
   "source": [
    "import requests\n",
    "import time\n",
    "from geopy.distance import geodesic\n",
    "import datetime\n",
    "import geocoder\n",
    "import csv\n",
    "\n",
    "stationDict = {}\n",
    "station2016Dict={}\n",
    "stationJson = requests.get('https://gbfs.citibikenyc.com/gbfs/es/station_information.json').json()\n"
   ]
  },
  {
   "cell_type": "code",
   "execution_count": 2,
   "metadata": {},
   "outputs": [],
   "source": [
    "#put bike stations and location into local dict and csv file\n",
    "def createFullStationCSV():\n",
    "    with open('bikeShareData.csv', 'w', newline='') as f:\n",
    "        fieldnames = ['id', 'name', 'lat', 'lon']\n",
    "        thewriter = csv.DictWriter(f, fieldnames = fieldnames)\n",
    "        thewriter.writeheader()\n",
    "\n",
    "        for each in stationJson['data']['stations']:\n",
    "            #print(each['name'])\n",
    "            id = each['station_id']\n",
    "            thewriter.writerow({'id' : id, 'name' : each['name'], 'lat' : each['lat'], 'lon' :  each['lon']})\n",
    "            stationDict[id] = [each['name'], each['lat'], each['lon']]"
   ]
  },
  {
   "cell_type": "code",
   "execution_count": null,
   "metadata": {},
   "outputs": [],
   "source": []
  },
  {
   "cell_type": "code",
   "execution_count": 7,
   "metadata": {},
   "outputs": [],
   "source": [
    "def create2016StationCSV(fileName):\n",
    "    count = 1\n",
    "    with open(fileName) as csvfile:\n",
    "        readCSV = csv.reader(csvfile, delimiter=',')\n",
    "        next(readCSV)\n",
    "        for row in readCSV:\n",
    "            #print(row[0], row[5], row[6])\n",
    "            #print(valueS)\n",
    "            lat = row[5]\n",
    "            lon =  row[6]\n",
    "            station2016Dict[row[3]] = [row[3],row[5],row[6],0]\n",
    "            \n",
    "        print(\"Total stations read: \",len(station2016Dict))\n",
    "            \n",
    "    interval = len(station2016Dict)/20\n",
    "    baseInterval = interval\n",
    "    progress = 5\n",
    "    with open('2016Stations.csv', 'w', newline='') as f:\n",
    "        fieldnames = ['id', 'lat', 'lon', 'zip']\n",
    "        print(\"geocoding...\")\n",
    "        thewriter = csv.writer(f)\n",
    "        thewriter.writerow(fieldnames)\n",
    "        print(\"progress: \", end=\"\")\n",
    "        for key, value in station2016Dict.items():\n",
    "            g = geocoder.arcgis([value[1], value[2]], method='reverse')\n",
    "            value[3] = g.postal\n",
    "            if count > interval:\n",
    "                print(progress+\"%\", end=\" \")\n",
    "                progress +=5\n",
    "                interval += baseInterval\n",
    "            thewriter.writerow(value)\n",
    "            time.sleep(.01)\n",
    "            count+=1\n",
    "        print(progress+\"%\", end=\" \")"
   ]
  },
  {
   "cell_type": "code",
   "execution_count": 8,
   "metadata": {},
   "outputs": [
    {
     "name": "stdout",
     "output_type": "stream",
     "text": [
      "Total stations read:  609\n",
      "geocoding...\n",
      "progress: "
     ]
    },
    {
     "ename": "TypeError",
     "evalue": "unsupported operand type(s) for +: 'int' and 'str'",
     "output_type": "error",
     "traceback": [
      "\u001b[0;31m---------------------------------------------------------------------------\u001b[0m",
      "\u001b[0;31mTypeError\u001b[0m                                 Traceback (most recent call last)",
      "\u001b[0;32m<ipython-input-8-34b32d5f9456>\u001b[0m in \u001b[0;36m<module>\u001b[0;34m\u001b[0m\n\u001b[0;32m----> 1\u001b[0;31m \u001b[0mcreate2016StationCSV\u001b[0m\u001b[0;34m(\u001b[0m\u001b[0;34m\"201612-citibike-tripdata.csv\"\u001b[0m\u001b[0;34m)\u001b[0m\u001b[0;34m\u001b[0m\u001b[0m\n\u001b[0m",
      "\u001b[0;32m<ipython-input-7-9e0e8d9c4518>\u001b[0m in \u001b[0;36mcreate2016StationCSV\u001b[0;34m(fileName)\u001b[0m\n\u001b[1;32m     26\u001b[0m             \u001b[0mvalue\u001b[0m\u001b[0;34m[\u001b[0m\u001b[0;36m3\u001b[0m\u001b[0;34m]\u001b[0m \u001b[0;34m=\u001b[0m \u001b[0mg\u001b[0m\u001b[0;34m.\u001b[0m\u001b[0mpostal\u001b[0m\u001b[0;34m\u001b[0m\u001b[0m\n\u001b[1;32m     27\u001b[0m             \u001b[0;32mif\u001b[0m \u001b[0mcount\u001b[0m \u001b[0;34m>\u001b[0m \u001b[0minterval\u001b[0m\u001b[0;34m:\u001b[0m\u001b[0;34m\u001b[0m\u001b[0m\n\u001b[0;32m---> 28\u001b[0;31m                 \u001b[0mprint\u001b[0m\u001b[0;34m(\u001b[0m\u001b[0mprogress\u001b[0m\u001b[0;34m+\u001b[0m\u001b[0;34m\"%\"\u001b[0m\u001b[0;34m,\u001b[0m \u001b[0mend\u001b[0m\u001b[0;34m=\u001b[0m\u001b[0;34m\" \"\u001b[0m\u001b[0;34m)\u001b[0m\u001b[0;34m\u001b[0m\u001b[0m\n\u001b[0m\u001b[1;32m     29\u001b[0m                 \u001b[0mprogress\u001b[0m \u001b[0;34m+=\u001b[0m\u001b[0;36m5\u001b[0m\u001b[0;34m\u001b[0m\u001b[0m\n\u001b[1;32m     30\u001b[0m                 \u001b[0minterval\u001b[0m \u001b[0;34m+=\u001b[0m \u001b[0mbaseInterval\u001b[0m\u001b[0;34m\u001b[0m\u001b[0m\n",
      "\u001b[0;31mTypeError\u001b[0m: unsupported operand type(s) for +: 'int' and 'str'"
     ]
    }
   ],
   "source": [
    "create2016StationCSV(\"201612-citibike-tripdata.csv\")"
   ]
  },
  {
   "cell_type": "markdown",
   "metadata": {},
   "source": [
    "look for datasets here https://s3.amazonaws.com/tripdata/index.html"
   ]
  },
  {
   "cell_type": "code",
   "execution_count": null,
   "metadata": {},
   "outputs": [],
   "source": []
  }
 ],
 "metadata": {
  "kernelspec": {
   "display_name": "Python 3",
   "language": "python",
   "name": "python3"
  },
  "language_info": {
   "codemirror_mode": {
    "name": "ipython",
    "version": 3
   },
   "file_extension": ".py",
   "mimetype": "text/x-python",
   "name": "python",
   "nbconvert_exporter": "python",
   "pygments_lexer": "ipython3",
   "version": "3.6.0"
  }
 },
 "nbformat": 4,
 "nbformat_minor": 2
}
