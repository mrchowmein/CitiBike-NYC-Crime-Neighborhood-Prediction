{
 "cells": [
  {
   "cell_type": "code",
   "execution_count": null,
   "metadata": {},
   "outputs": [],
   "source": [
    "import requests\n",
    "import time\n",
    "from geopy.distance import geodesic\n",
    "import datetime\n",
    "import geocoder\n",
    "import csv\n",
    "\n",
    "stationDict = {}\n",
    "station2016Dict={}\n",
    "stationJson = requests.get('https://gbfs.citibikenyc.com/gbfs/es/station_information.json').json()\n",
    "zipcodeDensity = {}\n",
    "crimeLocList = []\n",
    "crimePerZipDict = {}\n",
    "zipList = set()\n"
   ]
  },
  {
   "cell_type": "code",
   "execution_count": null,
   "metadata": {},
   "outputs": [],
   "source": [
    "#put bike stations and location into local dict and csv file\n",
    "def createFullStationCSV():\n",
    "    with open('bikeShareData.csv', 'w', newline='') as f:\n",
    "        fieldnames = ['id', 'name', 'lat', 'lon']\n",
    "        thewriter = csv.DictWriter(f, fieldnames = fieldnames)\n",
    "        thewriter.writeheader()\n",
    "\n",
    "        for each in stationJson['data']['stations']:\n",
    "            #print(each['name'])\n",
    "            id = each['station_id']\n",
    "            thewriter.writerow({'id' : id, 'name' : each['name'], 'lat' : each['lat'], 'lon' :  each['lon']})\n",
    "            stationDict[id] = [each['name'], each['lat'], each['lon']]"
   ]
  },
  {
   "cell_type": "code",
   "execution_count": null,
   "metadata": {},
   "outputs": [],
   "source": [
    "createFullStationCSV()"
   ]
  },
  {
   "cell_type": "code",
   "execution_count": null,
   "metadata": {},
   "outputs": [],
   "source": [
    "def create2016StationCSV(fileName):\n",
    "    count = 1\n",
    "    with open(fileName) as csvfile:\n",
    "        readCSV = csv.reader(csvfile, delimiter=',')\n",
    "        next(readCSV)\n",
    "        for row in readCSV:\n",
    "            #print(row[0], row[5], row[6])\n",
    "            #print(valueS)\n",
    "            lat = row[5]\n",
    "            lon =  row[6]\n",
    "            station2016Dict[row[3]] = [row[3],row[5],row[6],0]\n",
    "            \n",
    "        print(\"Total stations read: \",len(station2016Dict))\n",
    "            \n",
    "    interval = len(station2016Dict)/20\n",
    "    baseInterval = interval\n",
    "    progress = 5\n",
    "    with open('2016Stations.csv', 'w', newline='') as f:\n",
    "        fieldnames = ['id', 'lat', 'lon', 'zip']\n",
    "        print(\"geocoding...\")\n",
    "        thewriter = csv.writer(f)\n",
    "        thewriter.writerow(fieldnames)\n",
    "        print(\"progress: \", end=\"\")\n",
    "        for key, value in station2016Dict.items():\n",
    "            g = geocoder.arcgis([value[1], value[2]], method='reverse')\n",
    "            value[3] = g.postal\n",
    "            zipList.add(value[3])\n",
    "            if count > interval:\n",
    "                print(progress,\"%\", end=\" \")\n",
    "                progress +=5\n",
    "                interval += baseInterval\n",
    "            thewriter.writerow(value)\n",
    "            time.sleep(.01)\n",
    "            count+=1\n",
    "        print(progress,\"%\", end=\" \")\n",
    "        print()\n",
    "        #print(\"Zipcode Density\", len(zipcodeDensity))\n",
    "        #print(zipcodeDensity)"
   ]
  },
  {
   "cell_type": "code",
   "execution_count": null,
   "metadata": {},
   "outputs": [],
   "source": [
    "create2016StationCSV(\"201612-citibike-tripdata.csv\")"
   ]
  },
  {
   "cell_type": "markdown",
   "metadata": {},
   "source": [
    "Dec 2016 and other trip datasets can be found here https://s3.amazonaws.com/tripdata/index.html\n",
    "There are still pieces of missing zipcodes for some of the bike docks. These will need to be manually filled in via Google Maps. Geocoder does support googlemaps, but a seperate API key is needed."
   ]
  },
  {
   "cell_type": "code",
   "execution_count": null,
   "metadata": {},
   "outputs": [],
   "source": [
    "def bikeDensityForZip(fileName):\n",
    "    count = 1\n",
    "    with open(fileName) as csvfile:\n",
    "        readCSV = csv.reader(csvfile, delimiter=',')\n",
    "        #skips the header\n",
    "        next(readCSV)\n",
    "        for row in readCSV:\n",
    "            zip = row[3]\n",
    "            if not zip in zipcodeDensity:\n",
    "                zipcodeDensity[zip] = 1\n",
    "            else:\n",
    "                zipcodeDensity[zip] +=1            "
   ]
  },
  {
   "cell_type": "code",
   "execution_count": null,
   "metadata": {},
   "outputs": [],
   "source": [
    "bikeDensityForZip(\"2016Stations.csv\")"
   ]
  },
  {
   "cell_type": "code",
   "execution_count": null,
   "metadata": {},
   "outputs": [],
   "source": [
    "def loadFelonies(fileName):\n",
    "    with open(fileName) as csvfile:\n",
    "        readCSV = csv.reader(csvfile)\n",
    "        for row in readCSV:\n",
    "            #List format: Crime Type, Lat, Long, Zip\n",
    "            if row[12] == \"FELONY\":\n",
    "                crimeLocList.append([row[12], row[22], row[23], 0])\n",
    "    print(\"Felony Count: \", len(crimeLocList))"
   ]
  },
  {
   "cell_type": "code",
   "execution_count": null,
   "metadata": {},
   "outputs": [],
   "source": [
    "loadFelonies('crime_2016.csv')"
   ]
  },
  {
   "cell_type": "code",
   "execution_count": null,
   "metadata": {},
   "outputs": [],
   "source": [
    "def revGeoCodeFelonies():\n",
    "    with open('crimewithzip.csv', 'w') as csv_file:\n",
    "        writer = csv.writer(csv_file)\n",
    "        writer.writerow([\"type\", \"lat\", \"long\", 'zip'])\n",
    "        t0 = time.time()\n",
    "        print(t0)\n",
    "        rowcounter = 0\n",
    "        for row in crimeLocList:\n",
    "            g = geocoder.arcgis([row[1], row[2]], method='reverse')\n",
    "            zipcode = g.postal\n",
    "            #update crimeLocList\n",
    "            print(zipcode)\n",
    "            row[3] = zipcode\n",
    "            print(row[0],row[1],row[2],row[3])\n",
    "            #write to csv\n",
    "            writer.writerow(row)\n",
    "            t1 = time.time() - t0\n",
    "            if(t1 > 60):\n",
    "                print(t1)\n",
    "            time.sleep(.1)\n",
    "        rowcounter += 1\n",
    "        print(rowcounter)"
   ]
  },
  {
   "cell_type": "markdown",
   "metadata": {},
   "source": [
    "Note: running revGeoCodeFelonies() can take 40+ hours as there is over 140k entries."
   ]
  },
  {
   "cell_type": "code",
   "execution_count": null,
   "metadata": {},
   "outputs": [],
   "source": [
    "revGeoCodeFelonies()"
   ]
  },
  {
   "cell_type": "code",
   "execution_count": null,
   "metadata": {},
   "outputs": [],
   "source": [
    "def crimePerZipCode():\n",
    "    for row in crimeLocList:\n",
    "        zip = row[3]\n",
    "        print(zip)\n",
    "        if not zip in crimePerZipDict:\n",
    "            crimePerZipDict[zip] = 1\n",
    "        else:\n",
    "            crimePerZipDict[zip] += 1 \n",
    "        \n",
    "    with open('crime_zip_2016.csv', 'w') as csv_file:\n",
    "        writer = csv.writer(csv_file)\n",
    "        writer.writerow(['zip', 'Count_2016'])\n",
    "        for key, value in crimePerZipDict.items():\n",
    "            writer.writerow([k,v])\n",
    "\n",
    "        \n",
    "    "
   ]
  },
  {
   "cell_type": "markdown",
   "metadata": {},
   "source": [
    "crimePerZipCode() will output a csv file with the number of felonies per zipcode."
   ]
  },
  {
   "cell_type": "code",
   "execution_count": null,
   "metadata": {
    "scrolled": true
   },
   "outputs": [],
   "source": [
    "crimePerZipCode()"
   ]
  },
  {
   "cell_type": "code",
   "execution_count": null,
   "metadata": {},
   "outputs": [],
   "source": []
  },
  {
   "cell_type": "code",
   "execution_count": null,
   "metadata": {},
   "outputs": [],
   "source": []
  }
 ],
 "metadata": {
  "kernelspec": {
   "display_name": "Python 3",
   "language": "python",
   "name": "python3"
  },
  "language_info": {
   "codemirror_mode": {
    "name": "ipython",
    "version": 3
   },
   "file_extension": ".py",
   "mimetype": "text/x-python",
   "name": "python",
   "nbconvert_exporter": "python",
   "pygments_lexer": "ipython3",
   "version": "3.6.0"
  }
 },
 "nbformat": 4,
 "nbformat_minor": 2
}
